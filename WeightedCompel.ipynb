{
  "nbformat": 4,
  "nbformat_minor": 0,
  "metadata": {
    "colab": {
      "provenance": []
    },
    "kernelspec": {
      "name": "python3",
      "display_name": "Python 3"
    },
    "language_info": {
      "name": "python"
    }
  },
  "cells": [
    {
      "cell_type": "code",
      "execution_count": null,
      "metadata": {
        "id": "mx5TH8n2--I0"
      },
      "outputs": [],
      "source": [
        "#Install diffusers & compel if neccesary\n",
        "#!pip install diffusers\n",
        "#!pip install compel\n",
        "\n",
        "#Initiate diffuser\n",
        "from diffusers import StableDiffusionPipeline, UniPCMultistepScheduler\n",
        "from compel import Compel\n",
        "import torch\n",
        "\n",
        "pipe = StableDiffusionPipeline.from_pretrained(\"CompVis/stable-diffusion-v1-4\")\n",
        "pipe.scheduler = UniPCMultistepScheduler.from_config(pipe.scheduler.config)\n",
        "\n",
        "compel_proc = Compel(tokenizer=pipe.tokenizer, text_encoder=pipe.text_encoder)"
      ]
    },
    {
      "cell_type": "code",
      "source": [
        "#input prompt\n",
        "#indicate weights using .blend or sign +-\n",
        "prompt_embeds = compel_proc('(\"The blue buffalo++\", \"Yoda\").blend(0.7, 0.8)')\n",
        "generator = torch.Generator(device=\"cpu\").manual_seed(33)\n",
        "image = pipe(prompt, generator=generator, num_inference_steps=20).images[0]\n",
        "image"
      ],
      "metadata": {
        "id": "PdwQukKR_AEn"
      },
      "execution_count": null,
      "outputs": []
    }
  ]
}