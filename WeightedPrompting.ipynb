{
  "cells": [
    {
      "cell_type": "code",
      "execution_count": null,
      "metadata": {
        "cellView": "form",
        "id": "Am3beYkD1TkK"
      },
      "outputs": [],
      "source": [
        "#@title Download model\n",
        "from os.path import exists\n",
        "import gc\n",
        "\n",
        "!git clone --quiet https://github.com/invoke-ai/InvokeAI.git # Original repo\n",
        "%cd /content/InvokeAI/\n",
        "!git checkout --quiet tags/v2.0.0\n",
        "!wget https://raw.githubusercontent.com/invoke-ai/InvokeAI/development/requirements.txt\n",
        "!wget https://raw.githubusercontent.com/invoke-ai/InvokeAI/development/requirements-lin-win-colab-CUDA.txt\n",
        "!pip install colab-xterm\n",
        "!pip install -r requirements-lin-win-colab-CUDA.txt\n",
        "!pip install clean-fid torchtext\n",
        "!pip install transformers\n",
        "gc.collect()\n",
        "exit()"
      ]
    },
    {
      "cell_type": "code",
      "execution_count": null,
      "metadata": {
        "cellView": "form",
        "id": "ZmsL6FGs2p8r"
      },
      "outputs": [],
      "source": [
        "#@title Load model & drive\n",
        "import gc\n",
        "import os\n",
        "from google.colab import drive\n",
        "\n",
        "%cd /content/InvokeAI/\n",
        "!python scripts/preload_models.py\n",
        "gc.collect()\n",
        "\n",
        "drive.mount('/content/drive')\n",
        "%mkdir /content/InvokeAI/models/ldm/stable-diffusion-v1\n",
        "src = \"/content/drive/MyDrive/StableDiffusion/model.ckpt\"\n",
        "dst = '/content/InvokeAI/models/ldm/stable-diffusion-v1/model.ckpt'\n",
        "os.symlink(src, dst)"
      ]
    },
    {
      "cell_type": "code",
      "execution_count": null,
      "metadata": {
        "cellView": "form",
        "id": "QxucyduP5b7R"
      },
      "outputs": [],
      "source": [
        "#@title Run Terminal\n",
        "\n",
        "#@markdown Execute command `python scripts/invoke.py` to run InvokeAI.<br>\n",
        "#@markdown To view generated images run the next step\n",
        "%load_ext colabxterm\n",
        "%xterm\n",
        "gc.collect()"
      ]
    },
    {
      "cell_type": "code",
      "execution_count": null,
      "metadata": {
        "cellView": "form",
        "colab": {
          "background_save": true
        },
        "id": "_V1Z7f3h8dWj"
      },
      "outputs": [],
      "source": [
        "#@title Show image\n",
        "import gc\n",
        "import glob\n",
        "import matplotlib.pyplot as plt\n",
        "import matplotlib.image as mpimg\n",
        "%matplotlib inline\n",
        "\n",
        "images = []\n",
        "for img_path in sorted(glob.glob('/content/InvokeAI/outputs/img-samples/*.png'), reverse=True):\n",
        "    images.append(mpimg.imread(img_path))\n",
        "\n",
        "images = images[:1]\n",
        "\n",
        "plt.figure(figsize=(40,40))\n",
        "\n",
        "columns = 3\n",
        "for i, image in enumerate(images):\n",
        "    ax = plt.subplot(len(images) / columns + 1, columns, i + 1)\n",
        "    ax.axes.xaxis.set_visible(False)\n",
        "    ax.axes.yaxis.set_visible(False)\n",
        "    ax.axis('off')\n",
        "    plt.imshow(image)\n",
        "    gc.collect()\n",
        "\n",
        "!cp -r \"/content/InvokeAI/outputs/img-samples/\" \"/content/drive/MyDrive/SDImages/Vic\""
      ]
    }
  ],
  "metadata": {
    "accelerator": "GPU",
    "colab": {
      "machine_shape": "hm",
      "provenance": []
    },
    "gpuClass": "standard",
    "kernelspec": {
      "display_name": "Python 3",
      "name": "python3"
    },
    "language_info": {
      "name": "python"
    }
  },
  "nbformat": 4,
  "nbformat_minor": 0
}